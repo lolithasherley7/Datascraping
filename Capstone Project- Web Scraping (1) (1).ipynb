{
 "cells": [
  {
   "cell_type": "code",
   "execution_count": 20,
   "metadata": {},
   "outputs": [],
   "source": [
    "#importing library\n",
    "import requests\n",
    "from urllib.request import urlopen as UReq\n",
    "from fake_useragent import UserAgent\n",
    "import pandas as pd\n",
    "import bs4\n"
   ]
  },
  {
   "cell_type": "markdown",
   "metadata": {},
   "source": [
    "### Creating empty list to store required data as they are unstructured."
   ]
  },
  {
   "cell_type": "code",
   "execution_count": 21,
   "metadata": {},
   "outputs": [],
   "source": [
    "products=[] #list to store name of the product\n",
    "prices=[]\n",
    "ratings=[]\n",
    "specifications=[]\n",
    "Data=pd.DataFrame()\n",
    "\n"
   ]
  },
  {
   "cell_type": "code",
   "execution_count": 22,
   "metadata": {},
   "outputs": [
    {
     "name": "stdout",
     "output_type": "stream",
     "text": [
      "Product Name:mobile\n"
     ]
    }
   ],
   "source": [
    "user_agent = UserAgent()\n",
    "productname=input('Product Name:')"
   ]
  },
  {
   "cell_type": "markdown",
   "metadata": {},
   "source": [
    "### Extracting/ Scraping data from multiple product listing using 'for' loop"
   ]
  },
  {
   "cell_type": "code",
   "execution_count": 23,
   "metadata": {},
   "outputs": [],
   "source": [
    "for i in range(1,11):\n",
    "    url = \"https://www.flipkart.com/search?q={0}&page={1}\"\n",
    "    url = url.format(productname,i)\n",
    "    ## getting the reponse from the page using get method of requests module\n",
    "    page = requests.get(url)\n",
    "    ## storing the content of the page in a variable\n",
    "    html = page.content\n",
    "    ## creating BeautifulSoup object\n",
    "    page_soup = bs4.BeautifulSoup(html, \"html.parser\")\n",
    "    \n",
    "    \n",
    "    for containers in page_soup.findAll('div', attrs={'class':'_2kHMtA'}):\n",
    "        Name=containers.find('div', attrs={'class':' _4rR01T'})\n",
    "        price=containers.find('div', attrs={'class':'_30jeq3 _1_WHN1'})\n",
    "        rating=containers.find('span', attrs={'class':'_2_R_DZ'})\n",
    "        specification = containers.find('div', attrs={'class':'fMghEO'})\n",
    "        products.append(Name.text)\n",
    "        prices.append(price.text)\n",
    "        specifications.append(specification.text) if type(specification) == bs4.element.Tag  else specifications.append('NaN')\n",
    "        ratings.append(rating.text) if type(rating) == bs4.element.Tag  else ratings.append('NaN')\n",
    "        \n",
    "        \n",
    "        df = pd.DataFrame({'Product Name':products,'Price':prices, 'specification':specifications, 'Rating':ratings})\n",
    "    \n",
    "   "
   ]
  },
  {
   "cell_type": "markdown",
   "metadata": {},
   "source": [
    "The above code will store the data in a structured format. And when you print the df you'll get:"
   ]
  },
  {
   "cell_type": "code",
   "execution_count": 19,
   "metadata": {},
   "outputs": [
    {
     "data": {
      "text/html": [
       "<div>\n",
       "<style scoped>\n",
       "    .dataframe tbody tr th:only-of-type {\n",
       "        vertical-align: middle;\n",
       "    }\n",
       "\n",
       "    .dataframe tbody tr th {\n",
       "        vertical-align: top;\n",
       "    }\n",
       "\n",
       "    .dataframe thead th {\n",
       "        text-align: right;\n",
       "    }\n",
       "</style>\n",
       "<table border=\"1\" class=\"dataframe\">\n",
       "  <thead>\n",
       "    <tr style=\"text-align: right;\">\n",
       "      <th></th>\n",
       "      <th>Product Name</th>\n",
       "      <th>Price</th>\n",
       "      <th>specification</th>\n",
       "      <th>Rating</th>\n",
       "    </tr>\n",
       "  </thead>\n",
       "  <tbody>\n",
       "  </tbody>\n",
       "</table>\n",
       "</div>"
      ],
      "text/plain": [
       "Empty DataFrame\n",
       "Columns: [Product Name, Price, specification, Rating]\n",
       "Index: []"
      ]
     },
     "execution_count": 19,
     "metadata": {},
     "output_type": "execute_result"
    }
   ],
   "source": [
    "df.head(5)"
   ]
  },
  {
   "cell_type": "markdown",
   "metadata": {},
   "source": [
    "### Cleaning the Data"
   ]
  },
  {
   "cell_type": "code",
   "execution_count": null,
   "metadata": {},
   "outputs": [],
   "source": []
  }
 ],
 "metadata": {
  "kernelspec": {
   "display_name": "Python 3",
   "language": "python",
   "name": "python3"
  },
  "language_info": {
   "codemirror_mode": {
    "name": "ipython",
    "version": 3
   },
   "file_extension": ".py",
   "mimetype": "text/x-python",
   "name": "python",
   "nbconvert_exporter": "python",
   "pygments_lexer": "ipython3",
   "version": "3.7.6"
  }
 },
 "nbformat": 4,
 "nbformat_minor": 4
}
